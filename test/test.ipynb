{
 "cells": [
  {
   "cell_type": "code",
   "execution_count": 9,
   "metadata": {},
   "outputs": [],
   "source": [
    "from multiprocessing.managers import BaseManager\n",
    "def connect_queue(\n",
    "    address=(\"192.168.15.87\", 8124),\n",
    "    authkey=b\"liujunjieabracadabra\",\n",
    "    queue_name=\"abnormal_detection_1\",\n",
    "    max_retries=5,\n",
    "    retry_delay=5\n",
    "):\n",
    "    \"\"\"连接到队列服务\n",
    "    \n",
    "    Args:\n",
    "        address: 服务地址和端口\n",
    "        authkey: 认证密钥\n",
    "        queue_name: 队列名称\n",
    "        max_retries: 最大重试次数\n",
    "        retry_delay: 重试延迟(秒)\n",
    "    \n",
    "    Returns:\n",
    "        queue: 数据队列对象\n",
    "    \"\"\"\n",
    "    # 注册队列\n",
    "    class QueueManager(BaseManager):\n",
    "        pass\n",
    "    \n",
    "    QueueManager.register(queue_name)\n",
    "    \n",
    "    # 尝试连接\n",
    "    retries = 0\n",
    "    while retries < max_retries:\n",
    "        try:\n",
    "            manager = QueueManager(address=address, authkey=authkey)\n",
    "            manager.connect()\n",
    "            queue = getattr(manager, queue_name)()\n",
    "            return queue\n",
    "            \n",
    "        except Exception as e:\n",
    "            retries += 1\n",
    "            if retries < max_retries:\n",
    "                continue\n",
    "    \n",
    "    raise ConnectionError(f\"Failed to connect after {max_retries} attempts\")\n",
    "\n",
    "\n",
    "def test_queue():\n",
    "    \"\"\"测试队列服务\"\"\"\n",
    "    # 连接队列\n",
    "    queue = connect_queue()\n",
    "    \n",
    "    # 获取并打印数据\n",
    "    try:\n",
    "        while True:\n",
    "            try:\n",
    "                # 获取一批数据\n",
    "                batch = queue.get(timeout=5)\n",
    "                \n",
    "                # 打印批次信息\n",
    "                print(f\"Received batch of {len(batch)} samples\")\n",
    "                \n",
    "                # 打印第一个样本的信息\n",
    "                return batch\n",
    "            except queue.Empty:\n",
    "                print(\"Queue is empty, waiting for data...\")\n",
    "                continue\n",
    "                \n",
    "    except KeyboardInterrupt:\n",
    "        print(\"Test stopped by user\")\n",
    "    except Exception as e:\n",
    "        print(f\"Error during testing: {e}\")"
   ]
  },
  {
   "cell_type": "code",
   "execution_count": 10,
   "metadata": {},
   "outputs": [
    {
     "name": "stdout",
     "output_type": "stream",
     "text": [
      "Received batch of 16 samples\n"
     ]
    }
   ],
   "source": [
    "sample = test_queue()"
   ]
  },
  {
   "cell_type": "code",
   "execution_count": 11,
   "metadata": {},
   "outputs": [
    {
     "data": {
      "text/plain": [
       "{'utt': '0',\n",
       " 'audio_data': array([-5.0054368e-06, -3.2568147e-05,  4.7808280e-06, ...,\n",
       "         0.0000000e+00,  0.0000000e+00,  0.0000000e+00], dtype=float32),\n",
       " 'sr': 16000,\n",
       " 'label': '0',\n",
       " 'speech_token': array([1894,  162,  496,  707, 1855, 2742, 4513, 4488, 4777, 2510, 1862,\n",
       "        1978, 1950, 1707, 2031, 2031, 1987, 5748, 5667, 2833, 2031,  162,\n",
       "        1225,  710, 1856,  555, 4513, 4488, 4776, 2510, 2006, 1735, 2112,\n",
       "        4299, 1978, 3481, 5019, 5100, 5021, 1167,   87,  162, 3412,  680,\n",
       "        1370, 1122, 4513, 4488, 4749, 4697, 1762, 1950, 2031, 2031, 1987,\n",
       "        5667, 5019, 5100, 2671, 1788,  165,  738,  683, 1451,  321, 4515,\n",
       "        4488, 2481, 3239, 1763, 2031, 1951, 5668, 5100, 4858, 1059,  162,\n",
       "         495,  707, 2090,  555, 4516, 2301, 4697, 1762, 1978, 1707, 1950,\n",
       "        1950, 2014, 5667, 5100, 4858, 1896,  165, 2997,  494, 1442, 1858,\n",
       "        4758, 4569, 2562, 2591, 1816, 1950, 1701, 1701, 1701, 1701, 2031,\n",
       "        4860, 4860, 2673, 2018, 5015, 4754, 6068, 5987, 4403,  299, 1757,\n",
       "        1974, 2031, 1707, 1716, 2031, 2031, 2031, 2031, 1959, 5986,  802,\n",
       "        1946, 1946, 1217, 4043, 3962, 6077, 2432, 6230, 4043, 3890, 1217,\n",
       "        1775, 6230, 2432,  974, 1730, 1731, 2031, 1704, 2031, 1950, 5373,\n",
       "        5644, 5645, 5644, 4403, 5914, 5032, 5776, 6506,  692, 1946,  734,\n",
       "        1476, 2031, 2031, 1806, 1722, 2189, 3728,    8,  150, 4921, 2919,\n",
       "        3656, 6320, 5429, 1703, 1947, 1947, 2031, 2031, 2031, 1797, 3666,\n",
       "        4376, 2924,  134, 4920, 2190, 3899, 6077, 5266, 1702, 1947, 2031,\n",
       "        2031, 1725, 3663, 4376, 3734,  134, 5649, 2220, 3655, 1946, 6077,\n",
       "        5266, 1702, 1950, 1950, 1725, 5934, 2198, 3650,   53, 3471, 4431,\n",
       "        5832, 1946, 6158, 5266, 1945, 2031, 2031, 2031, 2031, 2040, 1563,\n",
       "        3663, 2918, 1466,   78, 4674, 1471, 1703, 5429, 5185, 1945, 3891,\n",
       "        3648, 5835, 3651, 3651, 1815, 2112, 1563,  749, 3731,  116, 3471,\n",
       "        4431, 3657, 1703, 6157, 5508, 1948, 1950, 2139, 2112, 2733, 4672,\n",
       "        4509, 2241, 5258, 4449, 4431, 4552, 6077, 1208,  281,   62, 4940,\n",
       "        3399,  570, 2838, 5032, 3080, 1493, 1735, 2031, 1959, 1563, 1477,\n",
       "        1946, 2687, 5445, 6096, 4385, 5591, 4636, 6180, 2206, 3890, 4871,\n",
       "        5364, 3909, 4376, 5591, 4636, 6177, 3663, 3161, 2693, 6175, 5935,\n",
       "        2206, 1298,  497, 5042, 5445, 2032, 2031, 2037, 2025, 4299, 6486,\n",
       "        2112, 4431, 4461,  501,  539, 1564, 1480, 4463, 4571, 1763, 2032,\n",
       "        2733, 2214, 3658,   59, 4683, 4836, 2603, 5510, 2294, 3428,  971,\n",
       "         716, 1778, 4593, 4488, 2240, 4598, 4598, 1763, 1708, 2031, 2031,\n",
       "        2112, 1213, 1208,  716, 2996, 4593, 4515,   80, 4607, 4594, 1763,\n",
       "        1978, 1950, 1951, 1294,  971,  713, 2102, 4515, 4515,   25, 4598,\n",
       "        4606, 1763, 1951, 2112, 1853, 2666, 1451, 4417, 4515,   26, 4598,\n",
       "        4606, 1763, 1951, 1950, 1950, 1987, 2023, 3887,  722, 1859, 4515,\n",
       "        4515,  134, 4598, 4606, 1763, 2014, 3320,  713, 1856, 4515, 2301,\n",
       "        2312, 4595, 1520, 1762, 5988, 6069, 4600, 2648,  964, 1536, 4858,\n",
       "        4939, 1294, 2059, 1950, 3891, 2031, 4299, 6405], dtype=int32)}"
      ]
     },
     "execution_count": 11,
     "metadata": {},
     "output_type": "execute_result"
    }
   ],
   "source": [
    "sample[0]"
   ]
  },
  {
   "cell_type": "code",
   "execution_count": 2,
   "metadata": {},
   "outputs": [],
   "source": [
    "import torch\n",
    "\n",
    "model = torch.load(\"/datadisk2/liujunjie/cmm/audio/AutoSubAlign/autosubalign/checkpoints/SenseVoiceSmall/model.pt\",map_location=\"cpu\")"
   ]
  },
  {
   "cell_type": "code",
   "execution_count": 6,
   "metadata": {},
   "outputs": [],
   "source": [
    "init_model = {}\n",
    "for k, v in model.items():\n",
    "    if k.startswith(\"encoder\"):\n",
    "        init_model[k] = v\n"
   ]
  },
  {
   "cell_type": "code",
   "execution_count": 7,
   "metadata": {},
   "outputs": [],
   "source": [
    "torch.save(init_model, \"init_model.pt\")"
   ]
  }
 ],
 "metadata": {
  "kernelspec": {
   "display_name": "cosyvoice_2",
   "language": "python",
   "name": "python3"
  },
  "language_info": {
   "codemirror_mode": {
    "name": "ipython",
    "version": 3
   },
   "file_extension": ".py",
   "mimetype": "text/x-python",
   "name": "python",
   "nbconvert_exporter": "python",
   "pygments_lexer": "ipython3",
   "version": "3.10.16"
  }
 },
 "nbformat": 4,
 "nbformat_minor": 2
}
