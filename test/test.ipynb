{
 "cells": [
  {
   "cell_type": "code",
   "execution_count": 6,
   "metadata": {},
   "outputs": [],
   "source": [
    "from multiprocessing.managers import BaseManager\n",
    "def connect_queue(\n",
    "    address=(\"192.168.15.87\", 8123),\n",
    "    authkey=b\"liujunjieabracadabra\",\n",
    "    queue_name=\"abnormal_detection_1\",\n",
    "    max_retries=5,\n",
    "    retry_delay=5\n",
    "):\n",
    "    \"\"\"连接到队列服务\n",
    "    \n",
    "    Args:\n",
    "        address: 服务地址和端口\n",
    "        authkey: 认证密钥\n",
    "        queue_name: 队列名称\n",
    "        max_retries: 最大重试次数\n",
    "        retry_delay: 重试延迟(秒)\n",
    "    \n",
    "    Returns:\n",
    "        queue: 数据队列对象\n",
    "    \"\"\"\n",
    "    # 注册队列\n",
    "    class QueueManager(BaseManager):\n",
    "        pass\n",
    "    \n",
    "    QueueManager.register(queue_name)\n",
    "    \n",
    "    # 尝试连接\n",
    "    retries = 0\n",
    "    while retries < max_retries:\n",
    "        try:\n",
    "            manager = QueueManager(address=address, authkey=authkey)\n",
    "            manager.connect()\n",
    "            queue = getattr(manager, queue_name)()\n",
    "            return queue\n",
    "            \n",
    "        except Exception as e:\n",
    "            retries += 1\n",
    "            if retries < max_retries:\n",
    "                continue\n",
    "    \n",
    "    raise ConnectionError(f\"Failed to connect after {max_retries} attempts\")\n",
    "\n",
    "\n",
    "def test_queue():\n",
    "    \"\"\"测试队列服务\"\"\"\n",
    "    # 连接队列\n",
    "    queue = connect_queue()\n",
    "    \n",
    "    # 获取并打印数据\n",
    "    try:\n",
    "        while True:\n",
    "            try:\n",
    "                # 获取一批数据\n",
    "                batch = queue.get(timeout=5)\n",
    "                \n",
    "                # 打印批次信息\n",
    "                print(f\"Received batch of {len(batch)} samples\")\n",
    "                \n",
    "                # 打印第一个样本的信息\n",
    "                return batch\n",
    "            except queue.Empty:\n",
    "                print(\"Queue is empty, waiting for data...\")\n",
    "                continue\n",
    "                \n",
    "    except KeyboardInterrupt:\n",
    "        print(\"Test stopped by user\")\n",
    "    except Exception as e:\n",
    "        print(f\"Error during testing: {e}\")"
   ]
  },
  {
   "cell_type": "code",
   "execution_count": 7,
   "metadata": {},
   "outputs": [
    {
     "name": "stdout",
     "output_type": "stream",
     "text": [
      "Received batch of 16 samples\n"
     ]
    }
   ],
   "source": [
    "sample = test_queue()"
   ]
  },
  {
   "cell_type": "code",
   "execution_count": 11,
   "metadata": {},
   "outputs": [
    {
     "data": {
      "text/plain": [
       "{'utt': '5f6e49ddec25d52997c45d82e52c7874_clip_18.56_21.92_3',\n",
       " 'audio_data': array([ 0.01388576, -0.01664284, -0.04276648, ...,  0.        ,\n",
       "         0.        ,  0.        ], dtype=float32),\n",
       " 'sr': 16000,\n",
       " 'label': '0',\n",
       " 'speech_token': array([5480,  323, 1272, 4457, 6077,   78, 4695, 4544, 6481, 4627, 5589,\n",
       "        4863, 1232, 1250,  761,  386,  815, 6158, 4626, 5589, 5589, 1215,\n",
       "        3402, 1302, 2841, 3570, 2887, 6320, 4490, 4994, 5615, 4832, 5986,\n",
       "        2504, 3653, 2258, 2236, 5509, 2789, 2128, 1723, 1808, 1284, 4677,\n",
       "        3455, 6181, 4659, 4400, 2934, 2261, 1848, 5565, 3063, 1612, 2184,\n",
       "         716,  968, 4929, 4696, 4571, 2225, 6122, 4682, 5429, 4627, 5346,\n",
       "        1812, 3972, 3645, 3675, 3672, 3672, 3648, 3675, 1461, 1704, 1975,\n",
       "         974,   86, 4544, 4457, 3170, 5346, 3402, 3168, 2205,  281,  280,\n",
       "        1707,  162, 5112, 3015, 3906, 4699, 2891,  321, 4683, 3151, 6502,\n",
       "        4072,   75, 5087, 4601, 4434, 4839,   97, 6404, 5065, 4947, 5028,\n",
       "        1429,  629, 2184, 1442, 5915,  451, 4314,  938,   46, 3670, 2085,\n",
       "        2251, 5092, 5068, 6068,  524, 1463,    8,  221, 6149, 5429, 5103,\n",
       "        2191, 5160, 1977, 4164, 1950, 1788, 1869, 2490, 5319, 3722, 5855,\n",
       "        5909, 5319, 5565, 1530, 1767, 1272, 5103, 5841, 1547,  474,   87,\n",
       "        2916, 5842,   89, 5021, 4434, 4675, 4650, 2805, 4805, 5449, 4745,\n",
       "         731, 5346, 2916,  759, 1707, 1950, 1788, 3892, 3919, 1485, 1785,\n",
       "        1788, 1788, 3975, 1788, 6486, 6486, 4299, 6406], dtype=int32)}"
      ]
     },
     "execution_count": 11,
     "metadata": {},
     "output_type": "execute_result"
    }
   ],
   "source": [
    "sample[0]"
   ]
  }
 ],
 "metadata": {
  "kernelspec": {
   "display_name": "cosyvoice_2",
   "language": "python",
   "name": "python3"
  },
  "language_info": {
   "codemirror_mode": {
    "name": "ipython",
    "version": 3
   },
   "file_extension": ".py",
   "mimetype": "text/x-python",
   "name": "python",
   "nbconvert_exporter": "python",
   "pygments_lexer": "ipython3",
   "version": "3.10.16"
  }
 },
 "nbformat": 4,
 "nbformat_minor": 2
}
